{
  "nbformat": 4,
  "nbformat_minor": 0,
  "metadata": {
    "colab": {
      "provenance": [],
      "authorship_tag": "ABX9TyPDTTXCUUujWO9yWJUw49UM",
      "include_colab_link": true
    },
    "kernelspec": {
      "name": "python3",
      "display_name": "Python 3"
    },
    "language_info": {
      "name": "python"
    }
  },
  "cells": [
    {
      "cell_type": "markdown",
      "metadata": {
        "id": "view-in-github",
        "colab_type": "text"
      },
      "source": [
        "<a href=\"https://colab.research.google.com/github/fahimaruba/CE305_week12_Q1_19980_Khandaker-Fahima_Ahmad/blob/main/Homework_4_Q1.ipynb\" target=\"_parent\"><img src=\"https://colab.research.google.com/assets/colab-badge.svg\" alt=\"Open In Colab\"/></a>"
      ]
    },
    {
      "cell_type": "code",
      "execution_count": null,
      "metadata": {
        "id": "R96UwrTKATdx"
      },
      "outputs": [],
      "source": [
        "Loop,  LOAD STR_BASE    /Load the memory location of STR_BASE\n",
        "       ADD ITR          /Add ITR to STR_BASE\n",
        "       STORE INDEX      / store the value of INDEX as STR_BASE + ITR\n",
        "       LOADI INDEX      / get the value at INDEX\n",
        "       SKIPCOND 400     / check value at INDEX and see if its equal to 0\n",
        "       JUMP do          / If condition is not met then jump to do, but if met then this step is skipped\n",
        "       HALT             / Ends the execution of the program\n",
        "\n",
        "do, Output              / output value at ADDR\n",
        "    LOAD ITR        \t/Load the contents of ITR\n",
        "    ADD One         \t/ADD the value of One to ITR\n",
        "    STORE ITR         \t/Store the value of ITR as ITR + One\n",
        "    JUMP Loop       \t/jump to Loop\n",
        "\n",
        "One, DEC 1\t/The purpose of this is to declare the variable O\n",
        "ITR, DEC 0\t/The purpose of this is to declare the variable ITR\n",
        "INDEX, HEX 0\t/The purpose of this is to declare the variable INDEX\n",
        "STR_BASE, HEX 10      / memory location of string"
      ]
    }
  ]
}